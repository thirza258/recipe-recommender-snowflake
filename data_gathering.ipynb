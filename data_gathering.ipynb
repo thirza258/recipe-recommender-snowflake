{
 "cells": [
  {
   "cell_type": "markdown",
   "metadata": {},
   "source": [
    "# Cookpad Scrapper"
   ]
  },
  {
   "cell_type": "code",
   "execution_count": 2,
   "metadata": {},
   "outputs": [],
   "source": [
    "import requests\n",
    "from bs4 import BeautifulSoup\n",
    "import re\n",
    "import snowflake.connector\n",
    "import pandas as pd\n",
    "import os"
   ]
  },
  {
   "cell_type": "code",
   "execution_count": null,
   "metadata": {},
   "outputs": [],
   "source": [
    "# URL of the search results page\n",
    "url = \"https://cookpad.com/ng/search/american\"\n",
    "\n",
    "# Send a GET request to fetch the page content\n",
    "response = requests.get(url)\n",
    "response.raise_for_status()  # Raise an exception if the request was unsuccessful\n",
    "\n",
    "# Parse the page content using BeautifulSoup\n",
    "soup = BeautifulSoup(response.text, 'html.parser')\n",
    "\n",
    "# Find all card elements with itemProp=\"url\"\n",
    "recipe_cards = soup.find_all('a', itemprop=\"url\")\n",
    "\n",
    "# Initialize an empty list to store the URLs\n",
    "urls = []\n",
    "\n",
    "# Loop through each card and extract the href attribute (URL)\n",
    "for card in recipe_cards:\n",
    "    # Get the URL from the href attribute and append it to the list\n",
    "    recipe_url = card.get('href')\n",
    "    if recipe_url:\n",
    "        # Make sure to construct the full URL (since it may be a relative path)\n",
    "        full_url = f\"https://cookpad.com{recipe_url}\" if recipe_url.startswith('/') else recipe_url\n",
    "        urls.append(full_url)\n",
    "\n",
    "# Print all the URLs found\n",
    "print(len(urls))\n",
    "for url in urls:\n",
    "    print(url)"
   ]
  },
  {
   "cell_type": "code",
   "execution_count": 15,
   "metadata": {},
   "outputs": [],
   "source": [
    "def getting_the_ingredients(url):\n",
    "    response = requests.get(url)\n",
    "\n",
    "    # Check if the request was successful\n",
    "    if response.status_code == 200:\n",
    "        # Parse the HTML content using BeautifulSoup\n",
    "        soup = BeautifulSoup(response.text, 'html.parser')\n",
    "\n",
    "        # Find the ingredient list\n",
    "        ingredient_list = soup.find('div', {'id': 'ingredients'}).find_all('li')\n",
    "\n",
    "        # Loop through the list of ingredients and extract the text\n",
    "        ingredients = []\n",
    "        for ingredient in ingredient_list:\n",
    "            ingredient_text = ingredient.get_text(strip=True)\n",
    "            ingredients.append(ingredient_text)\n",
    "            \n",
    "    else:\n",
    "        print(\"Failed to retrieve the page\")\n",
    "    \n",
    "    indegrients_str = ', '.join(ingredients)\n",
    "    return indegrients_str\n",
    "        \n"
   ]
  },
  {
   "cell_type": "code",
   "execution_count": 16,
   "metadata": {},
   "outputs": [],
   "source": [
    "def get_the_step(url):\n",
    "    response = requests.get(url)\n",
    "    response.raise_for_status()  # Raise an exception if the request was unsuccessful\n",
    "\n",
    "    # Parse the page content using BeautifulSoup\n",
    "    soup = BeautifulSoup(response.text, 'html.parser')\n",
    "\n",
    "    # Find all li elements where the id starts with 'step_'\n",
    "    step_elements = soup.find_all('li', id=re.compile('^step_'))\n",
    "    \n",
    "    steps = []\n",
    "\n",
    "    # Loop through the found step elements and extract the step number and description\n",
    "    for step_element in step_elements:\n",
    "        # Extract the step number\n",
    "        step_number = step_element.find('div', class_='flex-shrink-0').text.strip()\n",
    "\n",
    "        # Extract the step description (text inside <p> tag)\n",
    "        step_description = step_element.find('div', dir='auto').text.strip()\n",
    "\n",
    "        # Print the extracted step data\n",
    "        \n",
    "        steps.append(step_description)\n",
    "        \n",
    "        # Convert the steps list to a single string with ', ' as the separator\n",
    "    steps_str = ', '.join(steps)\n",
    "    \n",
    "    return steps_str\n"
   ]
  },
  {
   "cell_type": "code",
   "execution_count": 17,
   "metadata": {},
   "outputs": [],
   "source": [
    "# URL of the recipe page\n",
    "def get_title_and_author(url):\n",
    "    # Send a GET request to fetch the page content\n",
    "    response = requests.get(url)\n",
    "    response.raise_for_status()  # Raise an exception if the request was unsuccessful\n",
    "\n",
    "    # Parse the page content using BeautifulSoup\n",
    "    soup = BeautifulSoup(response.text, 'html.parser')\n",
    "\n",
    "    # Extract the title from the <h1> tag\n",
    "    title = soup.find('h1', class_='break-words text-cookpad-16 xs:text-cookpad-24 lg:text-cookpad-36 font-semibold leading-tight clear-both')\n",
    "\n",
    "    # Extract the username from the <span> tag inside the <a> tag\n",
    "    username = soup.find('a', class_='flex gap-x-sm items-center lg:pt-rg').find('span', class_='text-cookpad-14 text-cookpad-gray-700 font-semibold')\n",
    "\n",
    "    # Print the extracted title and username\n",
    "    print(\"Title:\", title.get_text(strip=True) if title else \"Not found\")\n",
    "    print(\"Username:\", username.get_text(strip=True) if username else \"Not found\")\n",
    "    \n",
    "    return title.get_text(strip=True), username.get_text(strip=True)\n",
    "\n"
   ]
  },
  {
   "cell_type": "code",
   "execution_count": null,
   "metadata": {},
   "outputs": [],
   "source": [
    "datas = []\n",
    "\n",
    "for i in urls:\n",
    "    object = {}\n",
    "    object['id'] = urls.index(i)\n",
    "    object['url'] = i\n",
    "    object['title'], object['author'] = get_title_and_author(i)\n",
    "    object['ingredients'] = getting_the_ingredients(i)\n",
    "    object['steps'] = get_the_step(i)\n",
    "    datas.append(object)"
   ]
  },
  {
   "cell_type": "code",
   "execution_count": 3,
   "metadata": {},
   "outputs": [
    {
     "name": "stderr",
     "output_type": "stream",
     "text": [
      "d:\\document\\Hackaton\\RAG\\RecipeRecommender\\env\\Lib\\site-packages\\snowflake\\connector\\config_manager.py:351: UserWarning: Bad owner or permissions on C:\\Users\\USER\\.snowflake\\connections.toml\n",
      "  warn(f\"Bad owner or permissions on {str(filep)}{chmod_message}\")\n"
     ]
    }
   ],
   "source": [
    "conn = snowflake.connector.connect(\n",
    "    user=os.getenv(\"SNOWFLAKE_USER\"),\n",
    "    password=os.getenv(\"SNOWFLAKE_PASS\"),\n",
    "    account=os.getenv(\"SNOWFLAKE_ACCOUNT\"),\n",
    "    warehouse=\"COMPUTE_WH\",\n",
    "    database=\"NEWS_API\",\n",
    "    schema=\"PUBLIC\"\n",
    "    )"
   ]
  },
  {
   "cell_type": "code",
   "execution_count": null,
   "metadata": {},
   "outputs": [],
   "source": [
    "conn.cursor().execute(\n",
    "    \"\"\"\n",
    "    CREATE OR REPLACE TABLE recipe_data (\n",
    "    id INTEGER PRIMARY KEY,\n",
    "    url STRING,\n",
    "    title STRING,\n",
    "    author STRING,\n",
    "    ingredients STRING,\n",
    "    steps STRING\n",
    "    );\n",
    "\n",
    "    \"\"\")"
   ]
  },
  {
   "cell_type": "code",
   "execution_count": 21,
   "metadata": {},
   "outputs": [],
   "source": [
    "for data in datas:\n",
    "    conn.cursor().execute(\n",
    "        \"\"\"\n",
    "        INSERT INTO recipe_data (id, url, title, author, ingredients, steps)\n",
    "        VALUES (%s, %s, %s, %s, %s, %s);\n",
    "        \"\"\",\n",
    "        (data['id'], data['url'], data['title'], data['author'], data['ingredients'], data['steps'])\n",
    "    )"
   ]
  },
  {
   "cell_type": "code",
   "execution_count": 4,
   "metadata": {},
   "outputs": [
    {
     "data": {
      "text/html": [
       "<div>\n",
       "<style scoped>\n",
       "    .dataframe tbody tr th:only-of-type {\n",
       "        vertical-align: middle;\n",
       "    }\n",
       "\n",
       "    .dataframe tbody tr th {\n",
       "        vertical-align: top;\n",
       "    }\n",
       "\n",
       "    .dataframe thead th {\n",
       "        text-align: right;\n",
       "    }\n",
       "</style>\n",
       "<table border=\"1\" class=\"dataframe\">\n",
       "  <thead>\n",
       "    <tr style=\"text-align: right;\">\n",
       "      <th></th>\n",
       "      <th>ID</th>\n",
       "      <th>URL</th>\n",
       "      <th>TITLE</th>\n",
       "      <th>AUTHOR</th>\n",
       "      <th>INGREDIENTS</th>\n",
       "      <th>STEPS</th>\n",
       "    </tr>\n",
       "  </thead>\n",
       "  <tbody>\n",
       "    <tr>\n",
       "      <th>28</th>\n",
       "      <td>28</td>\n",
       "      <td>https://cookpad.com/ng/recipes/10801737-glazed...</td>\n",
       "      <td>Glazed doughnuts</td>\n",
       "      <td>labiba’s edibles</td>\n",
       "      <td>4 tablespoonmilk, 2 tablespooncoco powder, 4 t...</td>\n",
       "      <td>Add 2tbsp of milk and 2tbsp of condensed milk,...</td>\n",
       "    </tr>\n",
       "    <tr>\n",
       "      <th>17</th>\n",
       "      <td>17</td>\n",
       "      <td>https://cookpad.com/ng/recipes/15897637-fried-...</td>\n",
       "      <td>Fried sweet potatoes with beans porridge</td>\n",
       "      <td>Amina</td>\n",
       "      <td>Sweet potatoes, Beans, Palm oilnveg.Oil, Seaso...</td>\n",
       "      <td>Peel your sweet potatoes and cut into Julien s...</td>\n",
       "    </tr>\n",
       "    <tr>\n",
       "      <th>13</th>\n",
       "      <td>13</td>\n",
       "      <td>https://cookpad.com/ng/recipes/16410200-humita...</td>\n",
       "      <td>Humitas (steamed fresh corn cakes)</td>\n",
       "      <td>MJ's Kitchen</td>\n",
       "      <td>3freshcorn, 2eggs, 2 tbsfish spice, 1 tspcurry...</td>\n",
       "      <td>Carefully remove the corn husk, Wash the husk ...</td>\n",
       "    </tr>\n",
       "    <tr>\n",
       "      <th>2</th>\n",
       "      <td>2</td>\n",
       "      <td>https://cookpad.com/ng/recipes/12566870-americ...</td>\n",
       "      <td>American pancakes</td>\n",
       "      <td>Meerah's Cuisine</td>\n",
       "      <td>3 cupsflour, 2 tspbaking powder, 2 tspbaking s...</td>\n",
       "      <td>Mix all dry ingredients together in a bowl. Mi...</td>\n",
       "    </tr>\n",
       "    <tr>\n",
       "      <th>7</th>\n",
       "      <td>7</td>\n",
       "      <td>https://cookpad.com/ng/recipes/22619220-chicke...</td>\n",
       "      <td>CHICKEN MARYLAND, CHIPS, SCRAMBLED EGGS AND SA...</td>\n",
       "      <td>Kitchen Alchemy</td>\n",
       "      <td>4chickenpieces (bone-in, skin-on), 1 cupall-pu...</td>\n",
       "      <td>Rinse and pat dry the chicken thighs.\\nIn a sh...</td>\n",
       "    </tr>\n",
       "  </tbody>\n",
       "</table>\n",
       "</div>"
      ],
      "text/plain": [
       "    ID                                                URL  \\\n",
       "28  28  https://cookpad.com/ng/recipes/10801737-glazed...   \n",
       "17  17  https://cookpad.com/ng/recipes/15897637-fried-...   \n",
       "13  13  https://cookpad.com/ng/recipes/16410200-humita...   \n",
       "2    2  https://cookpad.com/ng/recipes/12566870-americ...   \n",
       "7    7  https://cookpad.com/ng/recipes/22619220-chicke...   \n",
       "\n",
       "                                                TITLE            AUTHOR  \\\n",
       "28                                   Glazed doughnuts  labiba’s edibles   \n",
       "17           Fried sweet potatoes with beans porridge             Amina   \n",
       "13                 Humitas (steamed fresh corn cakes)      MJ's Kitchen   \n",
       "2                                   American pancakes  Meerah's Cuisine   \n",
       "7   CHICKEN MARYLAND, CHIPS, SCRAMBLED EGGS AND SA...   Kitchen Alchemy   \n",
       "\n",
       "                                          INGREDIENTS  \\\n",
       "28  4 tablespoonmilk, 2 tablespooncoco powder, 4 t...   \n",
       "17  Sweet potatoes, Beans, Palm oilnveg.Oil, Seaso...   \n",
       "13  3freshcorn, 2eggs, 2 tbsfish spice, 1 tspcurry...   \n",
       "2   3 cupsflour, 2 tspbaking powder, 2 tspbaking s...   \n",
       "7   4chickenpieces (bone-in, skin-on), 1 cupall-pu...   \n",
       "\n",
       "                                                STEPS  \n",
       "28  Add 2tbsp of milk and 2tbsp of condensed milk,...  \n",
       "17  Peel your sweet potatoes and cut into Julien s...  \n",
       "13  Carefully remove the corn husk, Wash the husk ...  \n",
       "2   Mix all dry ingredients together in a bowl. Mi...  \n",
       "7   Rinse and pat dry the chicken thighs.\\nIn a sh...  "
      ]
     },
     "execution_count": 4,
     "metadata": {},
     "output_type": "execute_result"
    }
   ],
   "source": [
    "cur = conn.cursor()\n",
    "cur.execute(\"SELECT * FROM recipe_data\")\n",
    "\n",
    "# Fetch all rows from the executed query\n",
    "rows = cur.fetchall()\n",
    "\n",
    "# Get the column names from the cursor description\n",
    "column_names = [desc[0] for desc in cur.description]\n",
    "\n",
    "# Create a pandas DataFrame from the fetched data\n",
    "recipe_data_df = pd.DataFrame(rows, columns=column_names)\n",
    "\n",
    "# Display the DataFrame (if using in a script or interactive session)\n",
    "recipe_data_df.sample(5)\n"
   ]
  },
  {
   "cell_type": "code",
   "execution_count": 13,
   "metadata": {},
   "outputs": [
    {
     "data": {
      "text/plain": [
       "<snowflake.connector.cursor.SnowflakeCursor at 0x1d2f11adf10>"
      ]
     },
     "execution_count": 13,
     "metadata": {},
     "output_type": "execute_result"
    }
   ],
   "source": [
    "cur.execute(\n",
    "    \"\"\"\n",
    " CREATE OR REPLACE FUNCTION NEWS_API.public.recipes_chunk(\n",
    "    id NUMBER, url STRING, title STRING, author STRING, ingredients STRING, steps STRING\n",
    ")\n",
    "    RETURNS TABLE (chunk STRING, id NUMBER, url STRING, title STRING, author STRING, ingredients STRING, steps STRING)\n",
    "    LANGUAGE python\n",
    "    RUNTIME_VERSION = '3.9'\n",
    "    HANDLER = 'text_chunker'\n",
    "    PACKAGES = ('snowflake-snowpark-python', 'langchain')\n",
    "    AS\n",
    "$$\n",
    "from langchain.text_splitter import RecursiveCharacterTextSplitter\n",
    "import copy\n",
    "from typing import Optional\n",
    "\n",
    "class text_chunker:\n",
    "\n",
    "    def process(self, id: int, url: str, title: str, author: str, ingredients: Optional[str], steps: Optional[str]):\n",
    "        if ingredients is None:\n",
    "            ingredients = \"\"\n",
    "        if steps is None:\n",
    "            steps = \"\"\n",
    "\n",
    "        text_to_chunk = ingredients + \"\\\\n\" + steps  \n",
    "\n",
    "        text_splitter = RecursiveCharacterTextSplitter(\n",
    "            chunk_size = 2000,\n",
    "            chunk_overlap = 300,\n",
    "            length_function = len\n",
    "        )\n",
    "        chunks = text_splitter.split_text(text_to_chunk)\n",
    "        for chunk in chunks:\n",
    "            yield (chunk, id, url, title, author, ingredients, steps)\n",
    "$$;\n",
    "\n",
    "    \"\"\"\n",
    ")\n"
   ]
  },
  {
   "cell_type": "code",
   "execution_count": 14,
   "metadata": {},
   "outputs": [
    {
     "data": {
      "text/plain": [
       "<snowflake.connector.cursor.SnowflakeCursor at 0x1d2f11adf10>"
      ]
     },
     "execution_count": 14,
     "metadata": {},
     "output_type": "execute_result"
    }
   ],
   "source": [
    "cur.execute(\n",
    "    \"\"\"\n",
    "    CREATE TABLE NEWS_API.public.recipe_description_chunks AS (\n",
    "    SELECT\n",
    "        recipes.*,\n",
    "        t.chunk AS chunk\n",
    "    FROM NEWS_API.public.recipe_data recipes,\n",
    "        TABLE(NEWS_API.public.recipes_chunk(recipes.id, recipes.url, recipes.title, recipes.author, recipes.ingredients, recipes.steps)) t\n",
    ");\n",
    "\"\"\"\n",
    ")"
   ]
  },
  {
   "cell_type": "code",
   "execution_count": 15,
   "metadata": {},
   "outputs": [
    {
     "data": {
      "text/plain": [
       "<snowflake.connector.cursor.SnowflakeCursor at 0x1d2f11adf10>"
      ]
     },
     "execution_count": 15,
     "metadata": {},
     "output_type": "execute_result"
    }
   ],
   "source": [
    "cur.execute(\"\"\"\n",
    "            CREATE CORTEX SEARCH SERVICE NEWS_API.public.recipe_description_service\n",
    "    ON CHUNK\n",
    "    WAREHOUSE = COMPUTE_WH\n",
    "    TARGET_LAG = '1 hour'\n",
    "    AS (\n",
    "        SELECT *\n",
    "        FROM NEWS_API.public.recipe_description_chunks\n",
    "    );\n",
    "\n",
    "            \n",
    "            \"\"\")"
   ]
  },
  {
   "cell_type": "code",
   "execution_count": 16,
   "metadata": {},
   "outputs": [
    {
     "data": {
      "text/plain": [
       "<snowflake.connector.cursor.SnowflakeCursor at 0x1d2f11adf10>"
      ]
     },
     "execution_count": 16,
     "metadata": {},
     "output_type": "execute_result"
    }
   ],
   "source": [
    "cur.execute(\n",
    "    \"\"\"\n",
    "    ALTER ACCOUNT SET CORTEX_ENABLED_CROSS_REGION = 'ANY_REGION';\n",
    "    \"\"\"\n",
    ")"
   ]
  }
 ],
 "metadata": {
  "kernelspec": {
   "display_name": "env",
   "language": "python",
   "name": "python3"
  },
  "language_info": {
   "codemirror_mode": {
    "name": "ipython",
    "version": 3
   },
   "file_extension": ".py",
   "mimetype": "text/x-python",
   "name": "python",
   "nbconvert_exporter": "python",
   "pygments_lexer": "ipython3",
   "version": "3.12.1"
  }
 },
 "nbformat": 4,
 "nbformat_minor": 2
}
